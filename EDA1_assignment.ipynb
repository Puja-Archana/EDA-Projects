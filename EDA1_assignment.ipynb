{
 "cells": [
  {
   "cell_type": "markdown",
   "id": "97a4d322",
   "metadata": {},
   "source": [
    "##                                                  Project: Global Trends Analysis "
   ]
  },
  {
   "cell_type": "markdown",
   "id": "966c0b11",
   "metadata": {},
   "source": [
    "### Problem Statement: \n",
    "\n",
    "The modern world is shaped by complex dynamics in population, health, and economics, making understanding these trends vital for informed policy-making. GlobalTrends, a leading analytics firm, is dedicated to deciphering these patterns through a comprehensive analysis of the Gapminder dataset. Your role in this project is to conduct an in-depth Exploratory Data Analysis (EDA), uncovering the intricate relationships between demographic changes, economic development, and health advancements over recent decades.\n"
   ]
  },
  {
   "cell_type": "markdown",
   "id": "9e6c0da0",
   "metadata": {},
   "source": [
    "### Import Libraries"
   ]
  },
  {
   "cell_type": "code",
   "execution_count": 1,
   "id": "505faecc",
   "metadata": {},
   "outputs": [],
   "source": [
    "import numpy as np\n",
    "import pandas as pd\n",
    "import matplotlib.pyplot as plt\n",
    "import seaborn as sns"
   ]
  },
  {
   "cell_type": "markdown",
   "id": "0fbecdbb",
   "metadata": {},
   "source": [
    "### Load The Data"
   ]
  },
  {
   "cell_type": "markdown",
   "id": "9974949e",
   "metadata": {},
   "source": [
    "### Objective questions\n",
    "#### 1. Load the dataset and display the first few rows."
   ]
  },
  {
   "cell_type": "code",
   "execution_count": 2,
   "id": "f1971830",
   "metadata": {},
   "outputs": [
    {
     "data": {
      "text/html": [
       "<div>\n",
       "<style scoped>\n",
       "    .dataframe tbody tr th:only-of-type {\n",
       "        vertical-align: middle;\n",
       "    }\n",
       "\n",
       "    .dataframe tbody tr th {\n",
       "        vertical-align: top;\n",
       "    }\n",
       "\n",
       "    .dataframe thead th {\n",
       "        text-align: right;\n",
       "    }\n",
       "</style>\n",
       "<table border=\"1\" class=\"dataframe\">\n",
       "  <thead>\n",
       "    <tr style=\"text-align: right;\">\n",
       "      <th></th>\n",
       "      <th>country</th>\n",
       "      <th>year</th>\n",
       "      <th>population</th>\n",
       "      <th>continent</th>\n",
       "      <th>life_exp</th>\n",
       "      <th>gdp_cap</th>\n",
       "    </tr>\n",
       "  </thead>\n",
       "  <tbody>\n",
       "    <tr>\n",
       "      <th>0</th>\n",
       "      <td>Afghanistan</td>\n",
       "      <td>1952</td>\n",
       "      <td>8425333</td>\n",
       "      <td>Asia</td>\n",
       "      <td>28.801</td>\n",
       "      <td>779.445314</td>\n",
       "    </tr>\n",
       "    <tr>\n",
       "      <th>1</th>\n",
       "      <td>Afghanistan</td>\n",
       "      <td>1957</td>\n",
       "      <td>9240934</td>\n",
       "      <td>Asia</td>\n",
       "      <td>30.332</td>\n",
       "      <td>820.853030</td>\n",
       "    </tr>\n",
       "    <tr>\n",
       "      <th>2</th>\n",
       "      <td>Afghanistan</td>\n",
       "      <td>1962</td>\n",
       "      <td>10267083</td>\n",
       "      <td>Asia</td>\n",
       "      <td>31.997</td>\n",
       "      <td>853.100710</td>\n",
       "    </tr>\n",
       "    <tr>\n",
       "      <th>3</th>\n",
       "      <td>Afghanistan</td>\n",
       "      <td>1967</td>\n",
       "      <td>11537966</td>\n",
       "      <td>Asia</td>\n",
       "      <td>34.020</td>\n",
       "      <td>836.197138</td>\n",
       "    </tr>\n",
       "    <tr>\n",
       "      <th>4</th>\n",
       "      <td>Afghanistan</td>\n",
       "      <td>1972</td>\n",
       "      <td>13079460</td>\n",
       "      <td>Asia</td>\n",
       "      <td>36.088</td>\n",
       "      <td>739.981106</td>\n",
       "    </tr>\n",
       "  </tbody>\n",
       "</table>\n",
       "</div>"
      ],
      "text/plain": [
       "       country  year  population continent  life_exp     gdp_cap\n",
       "0  Afghanistan  1952     8425333      Asia    28.801  779.445314\n",
       "1  Afghanistan  1957     9240934      Asia    30.332  820.853030\n",
       "2  Afghanistan  1962    10267083      Asia    31.997  853.100710\n",
       "3  Afghanistan  1967    11537966      Asia    34.020  836.197138\n",
       "4  Afghanistan  1972    13079460      Asia    36.088  739.981106"
      ]
     },
     "execution_count": 2,
     "metadata": {},
     "output_type": "execute_result"
    }
   ],
   "source": [
    "dataset = pd.read_csv('gapminder_full.csv')\n",
    "dataset.head()"
   ]
  },
  {
   "cell_type": "markdown",
   "id": "ed8d9965",
   "metadata": {},
   "source": [
    "####  How many countries does the dataset have?"
   ]
  },
  {
   "cell_type": "code",
   "execution_count": 3,
   "id": "e3aa7220",
   "metadata": {},
   "outputs": [
    {
     "data": {
      "text/plain": [
       "142"
      ]
     },
     "execution_count": 3,
     "metadata": {},
     "output_type": "execute_result"
    }
   ],
   "source": [
    "countries_count = dataset['country'].nunique()\n",
    "countries_count"
   ]
  },
  {
   "cell_type": "code",
   "execution_count": 4,
   "id": "4badafda",
   "metadata": {},
   "outputs": [
    {
     "data": {
      "text/plain": [
       "(1704, 6)"
      ]
     },
     "execution_count": 4,
     "metadata": {},
     "output_type": "execute_result"
    }
   ],
   "source": [
    "dataset.shape"
   ]
  },
  {
   "cell_type": "code",
   "execution_count": 5,
   "id": "262ee4a1",
   "metadata": {},
   "outputs": [
    {
     "data": {
      "text/plain": [
       "country       0\n",
       "year          0\n",
       "population    0\n",
       "continent     0\n",
       "life_exp      0\n",
       "gdp_cap       0\n",
       "dtype: int64"
      ]
     },
     "execution_count": 5,
     "metadata": {},
     "output_type": "execute_result"
    }
   ],
   "source": [
    "# Check for null values\n",
    "\n",
    "dataset.isnull().sum()"
   ]
  },
  {
   "cell_type": "markdown",
   "id": "85a72766",
   "metadata": {},
   "source": [
    "#### 2. Create a pivot table that shows the average life expectancy for each continent and year. Index by 'continent', use 'year' as columns, and 'life_exp' as values.\n"
   ]
  },
  {
   "cell_type": "code",
   "execution_count": 6,
   "id": "10427ed9",
   "metadata": {},
   "outputs": [
    {
     "data": {
      "text/html": [
       "<div>\n",
       "<style scoped>\n",
       "    .dataframe tbody tr th:only-of-type {\n",
       "        vertical-align: middle;\n",
       "    }\n",
       "\n",
       "    .dataframe tbody tr th {\n",
       "        vertical-align: top;\n",
       "    }\n",
       "\n",
       "    .dataframe thead th {\n",
       "        text-align: right;\n",
       "    }\n",
       "</style>\n",
       "<table border=\"1\" class=\"dataframe\">\n",
       "  <thead>\n",
       "    <tr style=\"text-align: right;\">\n",
       "      <th>year</th>\n",
       "      <th>1952</th>\n",
       "      <th>1957</th>\n",
       "      <th>1962</th>\n",
       "      <th>1967</th>\n",
       "      <th>1972</th>\n",
       "      <th>1977</th>\n",
       "      <th>1982</th>\n",
       "      <th>1987</th>\n",
       "      <th>1992</th>\n",
       "      <th>1997</th>\n",
       "      <th>2002</th>\n",
       "      <th>2007</th>\n",
       "    </tr>\n",
       "    <tr>\n",
       "      <th>continent</th>\n",
       "      <th></th>\n",
       "      <th></th>\n",
       "      <th></th>\n",
       "      <th></th>\n",
       "      <th></th>\n",
       "      <th></th>\n",
       "      <th></th>\n",
       "      <th></th>\n",
       "      <th></th>\n",
       "      <th></th>\n",
       "      <th></th>\n",
       "      <th></th>\n",
       "    </tr>\n",
       "  </thead>\n",
       "  <tbody>\n",
       "    <tr>\n",
       "      <th>Africa</th>\n",
       "      <td>39.135500</td>\n",
       "      <td>41.266346</td>\n",
       "      <td>43.319442</td>\n",
       "      <td>45.334538</td>\n",
       "      <td>47.450942</td>\n",
       "      <td>49.580423</td>\n",
       "      <td>51.592865</td>\n",
       "      <td>53.344788</td>\n",
       "      <td>53.629577</td>\n",
       "      <td>53.598269</td>\n",
       "      <td>53.325231</td>\n",
       "      <td>54.806038</td>\n",
       "    </tr>\n",
       "    <tr>\n",
       "      <th>Americas</th>\n",
       "      <td>53.279840</td>\n",
       "      <td>55.960280</td>\n",
       "      <td>58.398760</td>\n",
       "      <td>60.410920</td>\n",
       "      <td>62.394920</td>\n",
       "      <td>64.391560</td>\n",
       "      <td>66.228840</td>\n",
       "      <td>68.090720</td>\n",
       "      <td>69.568360</td>\n",
       "      <td>71.150480</td>\n",
       "      <td>72.422040</td>\n",
       "      <td>73.608120</td>\n",
       "    </tr>\n",
       "    <tr>\n",
       "      <th>Asia</th>\n",
       "      <td>46.314394</td>\n",
       "      <td>49.318544</td>\n",
       "      <td>51.563223</td>\n",
       "      <td>54.663640</td>\n",
       "      <td>57.319269</td>\n",
       "      <td>59.610556</td>\n",
       "      <td>62.617939</td>\n",
       "      <td>64.851182</td>\n",
       "      <td>66.537212</td>\n",
       "      <td>68.020515</td>\n",
       "      <td>69.233879</td>\n",
       "      <td>70.728485</td>\n",
       "    </tr>\n",
       "    <tr>\n",
       "      <th>Europe</th>\n",
       "      <td>64.408500</td>\n",
       "      <td>66.703067</td>\n",
       "      <td>68.539233</td>\n",
       "      <td>69.737600</td>\n",
       "      <td>70.775033</td>\n",
       "      <td>71.937767</td>\n",
       "      <td>72.806400</td>\n",
       "      <td>73.642167</td>\n",
       "      <td>74.440100</td>\n",
       "      <td>75.505167</td>\n",
       "      <td>76.700600</td>\n",
       "      <td>77.648600</td>\n",
       "    </tr>\n",
       "    <tr>\n",
       "      <th>Oceania</th>\n",
       "      <td>69.255000</td>\n",
       "      <td>70.295000</td>\n",
       "      <td>71.085000</td>\n",
       "      <td>71.310000</td>\n",
       "      <td>71.910000</td>\n",
       "      <td>72.855000</td>\n",
       "      <td>74.290000</td>\n",
       "      <td>75.320000</td>\n",
       "      <td>76.945000</td>\n",
       "      <td>78.190000</td>\n",
       "      <td>79.740000</td>\n",
       "      <td>80.719500</td>\n",
       "    </tr>\n",
       "  </tbody>\n",
       "</table>\n",
       "</div>"
      ],
      "text/plain": [
       "year            1952       1957       1962       1967       1972       1977  \\\n",
       "continent                                                                     \n",
       "Africa     39.135500  41.266346  43.319442  45.334538  47.450942  49.580423   \n",
       "Americas   53.279840  55.960280  58.398760  60.410920  62.394920  64.391560   \n",
       "Asia       46.314394  49.318544  51.563223  54.663640  57.319269  59.610556   \n",
       "Europe     64.408500  66.703067  68.539233  69.737600  70.775033  71.937767   \n",
       "Oceania    69.255000  70.295000  71.085000  71.310000  71.910000  72.855000   \n",
       "\n",
       "year            1982       1987       1992       1997       2002       2007  \n",
       "continent                                                                    \n",
       "Africa     51.592865  53.344788  53.629577  53.598269  53.325231  54.806038  \n",
       "Americas   66.228840  68.090720  69.568360  71.150480  72.422040  73.608120  \n",
       "Asia       62.617939  64.851182  66.537212  68.020515  69.233879  70.728485  \n",
       "Europe     72.806400  73.642167  74.440100  75.505167  76.700600  77.648600  \n",
       "Oceania    74.290000  75.320000  76.945000  78.190000  79.740000  80.719500  "
      ]
     },
     "execution_count": 6,
     "metadata": {},
     "output_type": "execute_result"
    }
   ],
   "source": [
    "pvt_tbl = pd.pivot_table(data = dataset, index = 'continent', values = 'life_exp', columns = 'year', aggfunc = 'mean', fill_value = 0)\n",
    "pvt_tbl"
   ]
  },
  {
   "cell_type": "markdown",
   "id": "7fa05fca",
   "metadata": {},
   "source": [
    "#### 3. Which countries had a GDP per capita higher than the 75th percentile in 2007?\n"
   ]
  },
  {
   "cell_type": "code",
   "execution_count": 7,
   "id": "cfb0b911",
   "metadata": {},
   "outputs": [
    {
     "data": {
      "text/plain": [
       "array(['Australia', 'Austria', 'Bahrain', 'Belgium', 'Canada',\n",
       "       'Czech Republic', 'Denmark', 'Finland', 'France', 'Germany',\n",
       "       'Greece', 'Hong Kong, China', 'Hungary', 'Iceland', 'Ireland',\n",
       "       'Israel', 'Italy', 'Japan', 'Korea, Rep.', 'Kuwait', 'Netherlands',\n",
       "       'New Zealand', 'Norway', 'Oman', 'Portugal', 'Puerto Rico',\n",
       "       'Saudi Arabia', 'Singapore', 'Slovak Republic', 'Slovenia',\n",
       "       'Spain', 'Sweden', 'Switzerland', 'Taiwan', 'United Kingdom',\n",
       "       'United States'], dtype=object)"
      ]
     },
     "execution_count": 7,
     "metadata": {},
     "output_type": "execute_result"
    }
   ],
   "source": [
    "# for year 2007\n",
    "\n",
    "year_2007 = dataset[dataset['year'] == 2007]\n",
    "\n",
    "# find 75th percentile of gdp_cap\n",
    "\n",
    "gdp_75th = year_2007['gdp_cap'].quantile(0.75)\n",
    "\n",
    "# countries having gdp higher than 75th percentile\n",
    "\n",
    "countries_higher_than_75th_per = year_2007[year_2007['gdp_cap'] > gdp_75th]['country'].unique()\n",
    "countries_higher_than_75th_per"
   ]
  },
  {
   "cell_type": "markdown",
   "id": "5bfef9be",
   "metadata": {},
   "source": [
    "#### 4. Categorize the 'life_exp' into 4 equally ranged bins from 'Low' to 'Very High'. Use cut to create these categorical life expectancy groups and add them as a new column 'Life_Exp_Range'"
   ]
  },
  {
   "cell_type": "code",
   "execution_count": 8,
   "id": "6abbd45d",
   "metadata": {},
   "outputs": [
    {
     "data": {
      "text/html": [
       "<div>\n",
       "<style scoped>\n",
       "    .dataframe tbody tr th:only-of-type {\n",
       "        vertical-align: middle;\n",
       "    }\n",
       "\n",
       "    .dataframe tbody tr th {\n",
       "        vertical-align: top;\n",
       "    }\n",
       "\n",
       "    .dataframe thead th {\n",
       "        text-align: right;\n",
       "    }\n",
       "</style>\n",
       "<table border=\"1\" class=\"dataframe\">\n",
       "  <thead>\n",
       "    <tr style=\"text-align: right;\">\n",
       "      <th></th>\n",
       "      <th>country</th>\n",
       "      <th>year</th>\n",
       "      <th>population</th>\n",
       "      <th>continent</th>\n",
       "      <th>life_exp</th>\n",
       "      <th>gdp_cap</th>\n",
       "      <th>Life_Exp_Range</th>\n",
       "    </tr>\n",
       "  </thead>\n",
       "  <tbody>\n",
       "    <tr>\n",
       "      <th>0</th>\n",
       "      <td>Afghanistan</td>\n",
       "      <td>1952</td>\n",
       "      <td>8425333</td>\n",
       "      <td>Asia</td>\n",
       "      <td>28.801</td>\n",
       "      <td>779.445314</td>\n",
       "      <td>Low</td>\n",
       "    </tr>\n",
       "    <tr>\n",
       "      <th>1</th>\n",
       "      <td>Afghanistan</td>\n",
       "      <td>1957</td>\n",
       "      <td>9240934</td>\n",
       "      <td>Asia</td>\n",
       "      <td>30.332</td>\n",
       "      <td>820.853030</td>\n",
       "      <td>Low</td>\n",
       "    </tr>\n",
       "    <tr>\n",
       "      <th>2</th>\n",
       "      <td>Afghanistan</td>\n",
       "      <td>1962</td>\n",
       "      <td>10267083</td>\n",
       "      <td>Asia</td>\n",
       "      <td>31.997</td>\n",
       "      <td>853.100710</td>\n",
       "      <td>Low</td>\n",
       "    </tr>\n",
       "    <tr>\n",
       "      <th>3</th>\n",
       "      <td>Afghanistan</td>\n",
       "      <td>1967</td>\n",
       "      <td>11537966</td>\n",
       "      <td>Asia</td>\n",
       "      <td>34.020</td>\n",
       "      <td>836.197138</td>\n",
       "      <td>Low</td>\n",
       "    </tr>\n",
       "    <tr>\n",
       "      <th>4</th>\n",
       "      <td>Afghanistan</td>\n",
       "      <td>1972</td>\n",
       "      <td>13079460</td>\n",
       "      <td>Asia</td>\n",
       "      <td>36.088</td>\n",
       "      <td>739.981106</td>\n",
       "      <td>Low</td>\n",
       "    </tr>\n",
       "  </tbody>\n",
       "</table>\n",
       "</div>"
      ],
      "text/plain": [
       "       country  year  population continent  life_exp     gdp_cap  \\\n",
       "0  Afghanistan  1952     8425333      Asia    28.801  779.445314   \n",
       "1  Afghanistan  1957     9240934      Asia    30.332  820.853030   \n",
       "2  Afghanistan  1962    10267083      Asia    31.997  853.100710   \n",
       "3  Afghanistan  1967    11537966      Asia    34.020  836.197138   \n",
       "4  Afghanistan  1972    13079460      Asia    36.088  739.981106   \n",
       "\n",
       "  Life_Exp_Range  \n",
       "0            Low  \n",
       "1            Low  \n",
       "2            Low  \n",
       "3            Low  \n",
       "4            Low  "
      ]
     },
     "execution_count": 8,
     "metadata": {},
     "output_type": "execute_result"
    }
   ],
   "source": [
    "# Define labels\n",
    "\n",
    "labels = ['Low','Medium', 'High', 'Very High']\n",
    "dataset['Life_Exp_Range'] = pd.cut(dataset['life_exp'], bins = 4, labels = labels)\n",
    "dataset.head()"
   ]
  },
  {
   "cell_type": "markdown",
   "id": "f27ab972",
   "metadata": {},
   "source": [
    "#### 5. Identify the top 5 countries with the highest GDP per capita in 2007. Use a horizontal bar chart to display this data.\n"
   ]
  },
  {
   "cell_type": "code",
   "execution_count": 9,
   "id": "97033d3a",
   "metadata": {},
   "outputs": [
    {
     "data": {
      "text/plain": [
       "<BarContainer object of 5 artists>"
      ]
     },
     "execution_count": 9,
     "metadata": {},
     "output_type": "execute_result"
    },
    {
     "data": {
      "image/png": "[encoded data removed]",
      "text/plain": [
       "<Figure size 720x432 with 1 Axes>"
      ]
     },
     "metadata": {
      "needs_background": "light"
     },
     "output_type": "display_data"
    }
   ],
   "source": [
    "df_2007 = dataset[dataset['year'] == 2007].sort_values(by = 'gdp_cap', ascending = False)\n",
    "plot_chart = df_2007[['country', 'gdp_cap']].head(5)\n",
    "plot_chart\n",
    "\n",
    "# Plot the chart\n",
    "\n",
    "plt.figure(figsize=(10, 6))\n",
    "x_asix = plot_chart['country']\n",
    "y_axis = plot_chart['gdp_cap']\n",
    "plt.bar(x_asix,y_axis)"
   ]
  },
  {
   "cell_type": "markdown",
   "id": "dcd0ad70",
   "metadata": {},
   "source": [
    "#### 6. Find all country names that start with \"I\" and end with \"a\" using regex.\n"
   ]
  },
  {
   "cell_type": "code",
   "execution_count": 10,
   "id": "cc4d5e62",
   "metadata": {},
   "outputs": [
    {
     "data": {
      "text/plain": [
       "array(['India', 'Indonesia'], dtype=object)"
      ]
     },
     "execution_count": 10,
     "metadata": {},
     "output_type": "execute_result"
    }
   ],
   "source": [
    "df_I_a = dataset[dataset['country'].str.contains(r'^I.*a$', regex =True)]['country']\n",
    "df_I_a.unique()"
   ]
  },
  {
   "cell_type": "markdown",
   "id": "4d02b090",
   "metadata": {},
   "source": [
    "#### 7. Create a boxplot using Seaborn to compare the distribution of GDP per capita for each continent in 2007.\n"
   ]
  },
  {
   "cell_type": "code",
   "execution_count": 11,
   "id": "872f69be",
   "metadata": {},
   "outputs": [
    {
     "data": {
      "text/html": [
       "<div>\n",
       "<style scoped>\n",
       "    .dataframe tbody tr th:only-of-type {\n",
       "        vertical-align: middle;\n",
       "    }\n",
       "\n",
       "    .dataframe tbody tr th {\n",
       "        vertical-align: top;\n",
       "    }\n",
       "\n",
       "    .dataframe thead th {\n",
       "        text-align: right;\n",
       "    }\n",
       "</style>\n",
       "<table border=\"1\" class=\"dataframe\">\n",
       "  <thead>\n",
       "    <tr style=\"text-align: right;\">\n",
       "      <th></th>\n",
       "      <th>country</th>\n",
       "      <th>year</th>\n",
       "      <th>population</th>\n",
       "      <th>continent</th>\n",
       "      <th>life_exp</th>\n",
       "      <th>gdp_cap</th>\n",
       "      <th>Life_Exp_Range</th>\n",
       "    </tr>\n",
       "  </thead>\n",
       "  <tbody>\n",
       "    <tr>\n",
       "      <th>11</th>\n",
       "      <td>Afghanistan</td>\n",
       "      <td>2007</td>\n",
       "      <td>31889923</td>\n",
       "      <td>Asia</td>\n",
       "      <td>43.828</td>\n",
       "      <td>974.580338</td>\n",
       "      <td>Medium</td>\n",
       "    </tr>\n",
       "    <tr>\n",
       "      <th>23</th>\n",
       "      <td>Albania</td>\n",
       "      <td>2007</td>\n",
       "      <td>3600523</td>\n",
       "      <td>Europe</td>\n",
       "      <td>76.423</td>\n",
       "      <td>5937.029526</td>\n",
       "      <td>Very High</td>\n",
       "    </tr>\n",
       "    <tr>\n",
       "      <th>35</th>\n",
       "      <td>Algeria</td>\n",
       "      <td>2007</td>\n",
       "      <td>33333216</td>\n",
       "      <td>Africa</td>\n",
       "      <td>72.301</td>\n",
       "      <td>6223.367465</td>\n",
       "      <td>Very High</td>\n",
       "    </tr>\n",
       "    <tr>\n",
       "      <th>47</th>\n",
       "      <td>Angola</td>\n",
       "      <td>2007</td>\n",
       "      <td>12420476</td>\n",
       "      <td>Africa</td>\n",
       "      <td>42.731</td>\n",
       "      <td>4797.231267</td>\n",
       "      <td>Medium</td>\n",
       "    </tr>\n",
       "    <tr>\n",
       "      <th>59</th>\n",
       "      <td>Argentina</td>\n",
       "      <td>2007</td>\n",
       "      <td>40301927</td>\n",
       "      <td>Americas</td>\n",
       "      <td>75.320</td>\n",
       "      <td>12779.379640</td>\n",
       "      <td>Very High</td>\n",
       "    </tr>\n",
       "  </tbody>\n",
       "</table>\n",
       "</div>"
      ],
      "text/plain": [
       "        country  year  population continent  life_exp       gdp_cap  \\\n",
       "11  Afghanistan  2007    31889923      Asia    43.828    974.580338   \n",
       "23      Albania  2007     3600523    Europe    76.423   5937.029526   \n",
       "35      Algeria  2007    33333216    Africa    72.301   6223.367465   \n",
       "47       Angola  2007    12420476    Africa    42.731   4797.231267   \n",
       "59    Argentina  2007    40301927  Americas    75.320  12779.379640   \n",
       "\n",
       "   Life_Exp_Range  \n",
       "11         Medium  \n",
       "23      Very High  \n",
       "35      Very High  \n",
       "47         Medium  \n",
       "59      Very High  "
      ]
     },
     "execution_count": 11,
     "metadata": {},
     "output_type": "execute_result"
    }
   ],
   "source": [
    "# 2007 dataset\n",
    "\n",
    "dataset_2007 = dataset[dataset['year'] == 2007]\n",
    "dataset_2007.head()"
   ]
  },
  {
   "cell_type": "code",
   "execution_count": 12,
   "id": "84628219",
   "metadata": {},
   "outputs": [
    {
     "data": {
      "image/png": "[encoded data removed]",
      "text/plain": [
       "<Figure size 720x432 with 1 Axes>"
      ]
     },
     "metadata": {
      "needs_background": "light"
     },
     "output_type": "display_data"
    }
   ],
   "source": [
    "# Box plot\n",
    "\n",
    "plt.figure(figsize=(10,6))\n",
    "sns.boxplot(x = 'continent', y = \"gdp_cap\", data = dataset_2007)\n",
    "plt.yticks(fontsize=12)\n",
    "plt.xlabel('continent')\n",
    "plt.ylabel('gdp_cap')\n",
    "plt.title('gdp_cap distribution by continent in 2007', fontsize=12)\n",
    "plt.show()"
   ]
  },
  {
   "cell_type": "markdown",
   "id": "fd99fd8d",
   "metadata": {},
   "source": [
    "#### 8. Find all countries with a life expectancy of over 80 years in 2007. List these countries and their respective continents.\n"
   ]
  },
  {
   "cell_type": "code",
   "execution_count": 13,
   "id": "25a08b99",
   "metadata": {},
   "outputs": [
    {
     "data": {
      "text/html": [
       "<div>\n",
       "<style scoped>\n",
       "    .dataframe tbody tr th:only-of-type {\n",
       "        vertical-align: middle;\n",
       "    }\n",
       "\n",
       "    .dataframe tbody tr th {\n",
       "        vertical-align: top;\n",
       "    }\n",
       "\n",
       "    .dataframe thead th {\n",
       "        text-align: right;\n",
       "    }\n",
       "</style>\n",
       "<table border=\"1\" class=\"dataframe\">\n",
       "  <thead>\n",
       "    <tr style=\"text-align: right;\">\n",
       "      <th></th>\n",
       "      <th>country</th>\n",
       "      <th>continent</th>\n",
       "    </tr>\n",
       "  </thead>\n",
       "  <tbody>\n",
       "    <tr>\n",
       "      <th>71</th>\n",
       "      <td>Australia</td>\n",
       "      <td>Oceania</td>\n",
       "    </tr>\n",
       "    <tr>\n",
       "      <th>251</th>\n",
       "      <td>Canada</td>\n",
       "      <td>Americas</td>\n",
       "    </tr>\n",
       "    <tr>\n",
       "      <th>539</th>\n",
       "      <td>France</td>\n",
       "      <td>Europe</td>\n",
       "    </tr>\n",
       "    <tr>\n",
       "      <th>671</th>\n",
       "      <td>Hong Kong, China</td>\n",
       "      <td>Asia</td>\n",
       "    </tr>\n",
       "    <tr>\n",
       "      <th>695</th>\n",
       "      <td>Iceland</td>\n",
       "      <td>Europe</td>\n",
       "    </tr>\n",
       "    <tr>\n",
       "      <th>767</th>\n",
       "      <td>Israel</td>\n",
       "      <td>Asia</td>\n",
       "    </tr>\n",
       "    <tr>\n",
       "      <th>779</th>\n",
       "      <td>Italy</td>\n",
       "      <td>Europe</td>\n",
       "    </tr>\n",
       "    <tr>\n",
       "      <th>803</th>\n",
       "      <td>Japan</td>\n",
       "      <td>Asia</td>\n",
       "    </tr>\n",
       "    <tr>\n",
       "      <th>1103</th>\n",
       "      <td>New Zealand</td>\n",
       "      <td>Oceania</td>\n",
       "    </tr>\n",
       "    <tr>\n",
       "      <th>1151</th>\n",
       "      <td>Norway</td>\n",
       "      <td>Europe</td>\n",
       "    </tr>\n",
       "    <tr>\n",
       "      <th>1427</th>\n",
       "      <td>Spain</td>\n",
       "      <td>Europe</td>\n",
       "    </tr>\n",
       "    <tr>\n",
       "      <th>1475</th>\n",
       "      <td>Sweden</td>\n",
       "      <td>Europe</td>\n",
       "    </tr>\n",
       "    <tr>\n",
       "      <th>1487</th>\n",
       "      <td>Switzerland</td>\n",
       "      <td>Europe</td>\n",
       "    </tr>\n",
       "  </tbody>\n",
       "</table>\n",
       "</div>"
      ],
      "text/plain": [
       "               country continent\n",
       "71           Australia   Oceania\n",
       "251             Canada  Americas\n",
       "539             France    Europe\n",
       "671   Hong Kong, China      Asia\n",
       "695            Iceland    Europe\n",
       "767             Israel      Asia\n",
       "779              Italy    Europe\n",
       "803              Japan      Asia\n",
       "1103       New Zealand   Oceania\n",
       "1151            Norway    Europe\n",
       "1427             Spain    Europe\n",
       "1475            Sweden    Europe\n",
       "1487       Switzerland    Europe"
      ]
     },
     "execution_count": 13,
     "metadata": {},
     "output_type": "execute_result"
    }
   ],
   "source": [
    "# dataset with life expectancy of over 80 years in 2007.\n",
    "\n",
    "life_exp_over_80_df = dataset_2007[dataset_2007['life_exp'] > 80]\n",
    "\n",
    "# countries and their respective continents.\n",
    "\n",
    "countries_life_exp_over_80_df = life_exp_over_80_df[['country','continent']]\n",
    "countries_life_exp_over_80_df"
   ]
  },
  {
   "cell_type": "markdown",
   "id": "fa8cc979",
   "metadata": {},
   "source": [
    "#### 9. Convert the 'year' column to a datetime type and extract the decade. Create a new column 'Decade' that groups the years into decades (e.g., the 1950s, 1960s).\n"
   ]
  },
  {
   "cell_type": "code",
   "execution_count": 14,
   "id": "9be08f6c",
   "metadata": {},
   "outputs": [
    {
     "data": {
      "text/html": [
       "<div>\n",
       "<style scoped>\n",
       "    .dataframe tbody tr th:only-of-type {\n",
       "        vertical-align: middle;\n",
       "    }\n",
       "\n",
       "    .dataframe tbody tr th {\n",
       "        vertical-align: top;\n",
       "    }\n",
       "\n",
       "    .dataframe thead th {\n",
       "        text-align: right;\n",
       "    }\n",
       "</style>\n",
       "<table border=\"1\" class=\"dataframe\">\n",
       "  <thead>\n",
       "    <tr style=\"text-align: right;\">\n",
       "      <th></th>\n",
       "      <th>country</th>\n",
       "      <th>year</th>\n",
       "      <th>population</th>\n",
       "      <th>continent</th>\n",
       "      <th>life_exp</th>\n",
       "      <th>gdp_cap</th>\n",
       "      <th>Life_Exp_Range</th>\n",
       "      <th>Decade</th>\n",
       "    </tr>\n",
       "  </thead>\n",
       "  <tbody>\n",
       "    <tr>\n",
       "      <th>0</th>\n",
       "      <td>Afghanistan</td>\n",
       "      <td>1952-01-01</td>\n",
       "      <td>8425333</td>\n",
       "      <td>Asia</td>\n",
       "      <td>28.801</td>\n",
       "      <td>779.445314</td>\n",
       "      <td>Low</td>\n",
       "      <td>1950</td>\n",
       "    </tr>\n",
       "    <tr>\n",
       "      <th>1</th>\n",
       "      <td>Afghanistan</td>\n",
       "      <td>1957-01-01</td>\n",
       "      <td>9240934</td>\n",
       "      <td>Asia</td>\n",
       "      <td>30.332</td>\n",
       "      <td>820.853030</td>\n",
       "      <td>Low</td>\n",
       "      <td>1950</td>\n",
       "    </tr>\n",
       "    <tr>\n",
       "      <th>2</th>\n",
       "      <td>Afghanistan</td>\n",
       "      <td>1962-01-01</td>\n",
       "      <td>10267083</td>\n",
       "      <td>Asia</td>\n",
       "      <td>31.997</td>\n",
       "      <td>853.100710</td>\n",
       "      <td>Low</td>\n",
       "      <td>1960</td>\n",
       "    </tr>\n",
       "    <tr>\n",
       "      <th>3</th>\n",
       "      <td>Afghanistan</td>\n",
       "      <td>1967-01-01</td>\n",
       "      <td>11537966</td>\n",
       "      <td>Asia</td>\n",
       "      <td>34.020</td>\n",
       "      <td>836.197138</td>\n",
       "      <td>Low</td>\n",
       "      <td>1960</td>\n",
       "    </tr>\n",
       "    <tr>\n",
       "      <th>4</th>\n",
       "      <td>Afghanistan</td>\n",
       "      <td>1972-01-01</td>\n",
       "      <td>13079460</td>\n",
       "      <td>Asia</td>\n",
       "      <td>36.088</td>\n",
       "      <td>739.981106</td>\n",
       "      <td>Low</td>\n",
       "      <td>1970</td>\n",
       "    </tr>\n",
       "    <tr>\n",
       "      <th>...</th>\n",
       "      <td>...</td>\n",
       "      <td>...</td>\n",
       "      <td>...</td>\n",
       "      <td>...</td>\n",
       "      <td>...</td>\n",
       "      <td>...</td>\n",
       "      <td>...</td>\n",
       "      <td>...</td>\n",
       "    </tr>\n",
       "    <tr>\n",
       "      <th>1699</th>\n",
       "      <td>Zimbabwe</td>\n",
       "      <td>1987-01-01</td>\n",
       "      <td>9216418</td>\n",
       "      <td>Africa</td>\n",
       "      <td>62.351</td>\n",
       "      <td>706.157306</td>\n",
       "      <td>High</td>\n",
       "      <td>1980</td>\n",
       "    </tr>\n",
       "    <tr>\n",
       "      <th>1700</th>\n",
       "      <td>Zimbabwe</td>\n",
       "      <td>1992-01-01</td>\n",
       "      <td>10704340</td>\n",
       "      <td>Africa</td>\n",
       "      <td>60.377</td>\n",
       "      <td>693.420786</td>\n",
       "      <td>High</td>\n",
       "      <td>1990</td>\n",
       "    </tr>\n",
       "    <tr>\n",
       "      <th>1701</th>\n",
       "      <td>Zimbabwe</td>\n",
       "      <td>1997-01-01</td>\n",
       "      <td>11404948</td>\n",
       "      <td>Africa</td>\n",
       "      <td>46.809</td>\n",
       "      <td>792.449960</td>\n",
       "      <td>Medium</td>\n",
       "      <td>1990</td>\n",
       "    </tr>\n",
       "    <tr>\n",
       "      <th>1702</th>\n",
       "      <td>Zimbabwe</td>\n",
       "      <td>2002-01-01</td>\n",
       "      <td>11926563</td>\n",
       "      <td>Africa</td>\n",
       "      <td>39.989</td>\n",
       "      <td>672.038623</td>\n",
       "      <td>Medium</td>\n",
       "      <td>2000</td>\n",
       "    </tr>\n",
       "    <tr>\n",
       "      <th>1703</th>\n",
       "      <td>Zimbabwe</td>\n",
       "      <td>2007-01-01</td>\n",
       "      <td>12311143</td>\n",
       "      <td>Africa</td>\n",
       "      <td>43.487</td>\n",
       "      <td>469.709298</td>\n",
       "      <td>Medium</td>\n",
       "      <td>2000</td>\n",
       "    </tr>\n",
       "  </tbody>\n",
       "</table>\n",
       "<p>1704 rows × 8 columns</p>\n",
       "</div>"
      ],
      "text/plain": [
       "          country       year  population continent  life_exp     gdp_cap  \\\n",
       "0     Afghanistan 1952-01-01     8425333      Asia    28.801  779.445314   \n",
       "1     Afghanistan 1957-01-01     9240934      Asia    30.332  820.853030   \n",
       "2     Afghanistan 1962-01-01    10267083      Asia    31.997  853.100710   \n",
       "3     Afghanistan 1967-01-01    11537966      Asia    34.020  836.197138   \n",
       "4     Afghanistan 1972-01-01    13079460      Asia    36.088  739.981106   \n",
       "...           ...        ...         ...       ...       ...         ...   \n",
       "1699     Zimbabwe 1987-01-01     9216418    Africa    62.351  706.157306   \n",
       "1700     Zimbabwe 1992-01-01    10704340    Africa    60.377  693.420786   \n",
       "1701     Zimbabwe 1997-01-01    11404948    Africa    46.809  792.449960   \n",
       "1702     Zimbabwe 2002-01-01    11926563    Africa    39.989  672.038623   \n",
       "1703     Zimbabwe 2007-01-01    12311143    Africa    43.487  469.709298   \n",
       "\n",
       "     Life_Exp_Range  Decade  \n",
       "0               Low    1950  \n",
       "1               Low    1950  \n",
       "2               Low    1960  \n",
       "3               Low    1960  \n",
       "4               Low    1970  \n",
       "...             ...     ...  \n",
       "1699           High    1980  \n",
       "1700           High    1990  \n",
       "1701         Medium    1990  \n",
       "1702         Medium    2000  \n",
       "1703         Medium    2000  \n",
       "\n",
       "[1704 rows x 8 columns]"
      ]
     },
     "execution_count": 14,
     "metadata": {},
     "output_type": "execute_result"
    }
   ],
   "source": [
    "# Convert year to datetime type\n",
    "\n",
    "dataset['year'] = pd.to_datetime(dataset['year'], format = '%Y')\n",
    "\n",
    "# Extract decade\n",
    "\n",
    "dataset['Decade'] = (dataset['year'].dt.year // 10) * 10\n",
    "dataset"
   ]
  },
  {
   "cell_type": "markdown",
   "id": "1c054079",
   "metadata": {},
   "source": [
    "#### 10. Compute the correlation matrix between GDP per capita, life expectancy, and population for the dataset. Then, use Seaborn to visualize this correlation matrix as a heatmap.\n"
   ]
  },
  {
   "cell_type": "code",
   "execution_count": 15,
   "id": "c994a9b6",
   "metadata": {},
   "outputs": [
    {
     "data": {
      "image/png": "[encoded data removed]",
      "text/plain": [
       "<Figure size 720x432 with 2 Axes>"
      ]
     },
     "metadata": {
      "needs_background": "light"
     },
     "output_type": "display_data"
    }
   ],
   "source": [
    "# find correlation\n",
    "corr_matrix = dataset[['gdp_cap','life_exp','population']].corr()\n",
    "\n",
    "# Plot heatmap\n",
    "plt.figure(figsize=(10, 6))\n",
    "sns.heatmap(corr_matrix, annot = True)\n",
    "plt.title('correlation between GDP per capita, life expectancy, and population')\n",
    "plt.show()"
   ]
  },
  {
   "cell_type": "markdown",
   "id": "e4110448",
   "metadata": {},
   "source": [
    "#### 11. How has the global average life expectancy changed from 1952 to 2007? Plot a line graph to visualize this trend.\n",
    "Subjective Question: Discuss the various reasons that could have contributed to the change.\n"
   ]
  },
  {
   "cell_type": "code",
   "execution_count": 16,
   "id": "c71d2ec5",
   "metadata": {},
   "outputs": [
    {
     "data": {
      "image/png": "[encoded data removed]",
      "text/plain": [
       "<Figure size 720x432 with 1 Axes>"
      ]
     },
     "metadata": {
      "needs_background": "light"
     },
     "output_type": "display_data"
    }
   ],
   "source": [
    "plt.figure(figsize=(10,6))\n",
    "\n",
    "#x_asix = dataset['year']\n",
    "life_exp_group = dataset.groupby('year')['life_exp'].mean().reset_index()\n",
    "\n",
    "sns.lineplot(x = 'year', y = 'life_exp', data = life_exp_group, marker='o')\n",
    "\n",
    "plt.xlabel('Year')\n",
    "plt.ylabel('Average Life Expectancy')\n",
    "plt.title('Global Average Life Expectancy (1952 - 2007)')\n",
    "plt.show()"
   ]
  },
  {
   "cell_type": "markdown",
   "id": "e43fea6a",
   "metadata": {},
   "source": [
    "1. The graph avove reprsents an upward trend indicating improvements in life expectancy over the years. \n",
    "\n",
    "2. This is a result of a combination of various factors.\n",
    "\n",
    "3. This includes medical advancements, economic development, improved public health initiatives, and better nutrition. \n",
    "\n",
    "5. Adavance in Healthcare: The development in vaccines, antibiotics and other medical treatments and advanced surgical techniques have signifacantly reduced the infectious diseasses, contributing to increased life expectancy.\n",
    "\n",
    "4. Health initiatives: Increase in awareness and education about health practices, such as vaccination, proper nutrition, and exercise, Improved sanitation, clean drinking water, and better waste management practices have helped improve overall health outcomes.\n",
    "\n",
    "5. Nutrition and Food: The Green Revolution and advances in agricultural practices have increased food production, reducing malnutrition, which are critical factors affecting life expectancy.\n",
    "\n",
    "6. Economic Development: Economic growth in many parts of the world has led to higher income levels, which in turn have improved access to healthcare, better nutrition, and healthier living conditions.\n",
    "\n",
    "7. Better infrastructure, including transportation and communication systems, has facilitated the delivery of healthcare services, especially in remote areas.\n",
    "\n",
    "These factors have collectively contributed to longer and healthier lives across much of the world. \n"
   ]
  },
  {
   "cell_type": "markdown",
   "id": "f94fb834",
   "metadata": {},
   "source": [
    "#### 12. For the year 2007, analyze the relationship between life expectancy and GDP per capita. Subjective Question: Is there a noticeable trend or correlation? Represent this using a scatter plot.\n"
   ]
  },
  {
   "cell_type": "code",
   "execution_count": 17,
   "id": "e8e7708e",
   "metadata": {},
   "outputs": [
    {
     "data": {
      "text/html": [
       "<div>\n",
       "<style scoped>\n",
       "    .dataframe tbody tr th:only-of-type {\n",
       "        vertical-align: middle;\n",
       "    }\n",
       "\n",
       "    .dataframe tbody tr th {\n",
       "        vertical-align: top;\n",
       "    }\n",
       "\n",
       "    .dataframe thead th {\n",
       "        text-align: right;\n",
       "    }\n",
       "</style>\n",
       "<table border=\"1\" class=\"dataframe\">\n",
       "  <thead>\n",
       "    <tr style=\"text-align: right;\">\n",
       "      <th></th>\n",
       "      <th>country</th>\n",
       "      <th>year</th>\n",
       "      <th>population</th>\n",
       "      <th>continent</th>\n",
       "      <th>life_exp</th>\n",
       "      <th>gdp_cap</th>\n",
       "      <th>Life_Exp_Range</th>\n",
       "    </tr>\n",
       "  </thead>\n",
       "  <tbody>\n",
       "    <tr>\n",
       "      <th>11</th>\n",
       "      <td>Afghanistan</td>\n",
       "      <td>2007</td>\n",
       "      <td>31889923</td>\n",
       "      <td>Asia</td>\n",
       "      <td>43.828</td>\n",
       "      <td>974.580338</td>\n",
       "      <td>Medium</td>\n",
       "    </tr>\n",
       "    <tr>\n",
       "      <th>23</th>\n",
       "      <td>Albania</td>\n",
       "      <td>2007</td>\n",
       "      <td>3600523</td>\n",
       "      <td>Europe</td>\n",
       "      <td>76.423</td>\n",
       "      <td>5937.029526</td>\n",
       "      <td>Very High</td>\n",
       "    </tr>\n",
       "    <tr>\n",
       "      <th>35</th>\n",
       "      <td>Algeria</td>\n",
       "      <td>2007</td>\n",
       "      <td>33333216</td>\n",
       "      <td>Africa</td>\n",
       "      <td>72.301</td>\n",
       "      <td>6223.367465</td>\n",
       "      <td>Very High</td>\n",
       "    </tr>\n",
       "    <tr>\n",
       "      <th>47</th>\n",
       "      <td>Angola</td>\n",
       "      <td>2007</td>\n",
       "      <td>12420476</td>\n",
       "      <td>Africa</td>\n",
       "      <td>42.731</td>\n",
       "      <td>4797.231267</td>\n",
       "      <td>Medium</td>\n",
       "    </tr>\n",
       "    <tr>\n",
       "      <th>59</th>\n",
       "      <td>Argentina</td>\n",
       "      <td>2007</td>\n",
       "      <td>40301927</td>\n",
       "      <td>Americas</td>\n",
       "      <td>75.320</td>\n",
       "      <td>12779.379640</td>\n",
       "      <td>Very High</td>\n",
       "    </tr>\n",
       "  </tbody>\n",
       "</table>\n",
       "</div>"
      ],
      "text/plain": [
       "        country  year  population continent  life_exp       gdp_cap  \\\n",
       "11  Afghanistan  2007    31889923      Asia    43.828    974.580338   \n",
       "23      Albania  2007     3600523    Europe    76.423   5937.029526   \n",
       "35      Algeria  2007    33333216    Africa    72.301   6223.367465   \n",
       "47       Angola  2007    12420476    Africa    42.731   4797.231267   \n",
       "59    Argentina  2007    40301927  Americas    75.320  12779.379640   \n",
       "\n",
       "   Life_Exp_Range  \n",
       "11         Medium  \n",
       "23      Very High  \n",
       "35      Very High  \n",
       "47         Medium  \n",
       "59      Very High  "
      ]
     },
     "execution_count": 17,
     "metadata": {},
     "output_type": "execute_result"
    }
   ],
   "source": [
    "# For the year 2007\n",
    "\n",
    "dataset_2007.head()"
   ]
  },
  {
   "cell_type": "code",
   "execution_count": 18,
   "id": "f82601be",
   "metadata": {},
   "outputs": [
    {
     "data": {
      "image/png": "[encoded data removed]",
      "text/plain": [
       "<Figure size 720x432 with 1 Axes>"
      ]
     },
     "metadata": {
      "needs_background": "light"
     },
     "output_type": "display_data"
    },
    {
     "data": {
      "image/png": "[encoded data removed]",
      "text/plain": [
       "<Figure size 720x432 with 2 Axes>"
      ]
     },
     "metadata": {
      "needs_background": "light"
     },
     "output_type": "display_data"
    }
   ],
   "source": [
    "plt.figure(figsize=(10,6))\n",
    "\n",
    "sns.scatterplot(x = 'gdp_cap', y = 'life_exp', data = dataset_2007)\n",
    "\n",
    "plt.xlabel('gdp_cap')\n",
    "plt.ylabel('Life Expectancy')\n",
    "plt.title('Relationship between life expectancy and GDP per capita.')\n",
    "plt.show()\n",
    "\n",
    "\n",
    "# Correlation\n",
    "\n",
    "corr_dataset = dataset_2007[['life_exp', 'gdp_cap']].corr()\n",
    "#corr_dataset\n",
    "plt.figure(figsize=(10, 6))\n",
    "sns.heatmap(corr_dataset, annot = True)\n",
    "plt.title('correlation between GDP per capita, life expectancy')\n",
    "plt.show()"
   ]
  },
  {
   "cell_type": "markdown",
   "id": "ca859314",
   "metadata": {},
   "source": [
    "1. Both scatter plot and correlation analysis reveal a positive relationship between GDP per capita and life expectancy, with a correlation of 0.68 suggesting a moderate positive relationship. \n",
    "\n",
    "2. While higher GDP per capita generally leads to better living conditions and healthcare, and thus higher life expectancy, it's important to consider other factors that can influence this relationship.\n",
    "\n",
    "3. Wealth alone does not guarantee a longer life, but it certainly contributes to creating the conditions for a healthier and longer life."
   ]
  },
  {
   "cell_type": "markdown",
   "id": "c2320091",
   "metadata": {},
   "source": [
    "#### 13. Compare the average GDP per capita for each continent in the year 2007. Use a bar chart for this comparison.\n",
    "Subjective Question:  Why is the average GDP per capita for Oceania higher than the Americas even though the Americas have more countries?\n"
   ]
  },
  {
   "cell_type": "code",
   "execution_count": 19,
   "id": "a418e522",
   "metadata": {},
   "outputs": [
    {
     "data": {
      "text/plain": [
       "<BarContainer object of 5 artists>"
      ]
     },
     "execution_count": 19,
     "metadata": {},
     "output_type": "execute_result"
    },
    {
     "data": {
      "image/png": "[encoded data removed]",
      "text/plain": [
       "<Figure size 432x288 with 1 Axes>"
      ]
     },
     "metadata": {
      "needs_background": "light"
     },
     "output_type": "display_data"
    }
   ],
   "source": [
    "#  average GDP per capita for each continent in the year 2007\n",
    "\n",
    "avg_gdp = dataset_2007.groupby('continent')['gdp_cap'].mean()\n",
    "avg_gdp\n",
    "\n",
    "# Plot the bar chart\n",
    "\n",
    "x_bar=avg_gdp.index\n",
    "y_bar=avg_gdp\n",
    "plt.bar(x_bar,y_bar)"
   ]
  },
  {
   "cell_type": "markdown",
   "id": "0b765050",
   "metadata": {},
   "source": [
    "1. Oceania represents Australia and New Zealand, both of which are developed, high-income countries with strong economies. Their GDP per capita is significantly higher compared to many other countries worldwide.\n",
    "\n",
    "2. Since these two countries dominate the continent in terms of population and economic output, their high GDP per capita strongly influences Oceania's average, pushing it higher.\n",
    "\n",
    "3. The America includes a diverse range of countries with varying levels of economic development. North America (primarily the United States and Canada) has a high GDP per capita, but Latin American countries, which make up a significant portion of the Americas, generally have lower GDP per capita.\n",
    "\n",
    "4. The presence of many lower and middle-income countries in Latin America pulls down the overall average GDP per capita for the Americas, despite the high figures from North America.\n",
    "\n",
    "5. These two countries, with their advanced economies, drive up the average for the entire continent. In contrast, the Americas have a more diverse range of economies, with many countries in Latin America having lower GDP per capita, which brings down the overall average for the continent. \n",
    "6. The number of countries and their respective economic weights play a crucial role in shaping these averages."
   ]
  },
  {
   "cell_type": "markdown",
   "id": "9c6460f6",
   "metadata": {},
   "source": [
    "#### 14. Compare the life expectancy and GDP per capita of Afghanistan (a country known for its historical conflicts) and Switzerland (representing a peaceful and economically prosperous country) using the dataset provided.\n",
    "##### 1. for the year 2007, use a bar chart to directly compare the life expectancy and GDP per capita between these two countries.\n",
    "\n"
   ]
  },
  {
   "cell_type": "code",
   "execution_count": 20,
   "id": "4a49bae9",
   "metadata": {},
   "outputs": [
    {
     "data": {
      "text/html": [
       "<div>\n",
       "<style scoped>\n",
       "    .dataframe tbody tr th:only-of-type {\n",
       "        vertical-align: middle;\n",
       "    }\n",
       "\n",
       "    .dataframe tbody tr th {\n",
       "        vertical-align: top;\n",
       "    }\n",
       "\n",
       "    .dataframe thead th {\n",
       "        text-align: right;\n",
       "    }\n",
       "</style>\n",
       "<table border=\"1\" class=\"dataframe\">\n",
       "  <thead>\n",
       "    <tr style=\"text-align: right;\">\n",
       "      <th></th>\n",
       "      <th>country</th>\n",
       "      <th>year</th>\n",
       "      <th>population</th>\n",
       "      <th>continent</th>\n",
       "      <th>life_exp</th>\n",
       "      <th>gdp_cap</th>\n",
       "      <th>Life_Exp_Range</th>\n",
       "    </tr>\n",
       "  </thead>\n",
       "  <tbody>\n",
       "    <tr>\n",
       "      <th>11</th>\n",
       "      <td>Afghanistan</td>\n",
       "      <td>2007</td>\n",
       "      <td>31889923</td>\n",
       "      <td>Asia</td>\n",
       "      <td>43.828</td>\n",
       "      <td>974.580338</td>\n",
       "      <td>Medium</td>\n",
       "    </tr>\n",
       "    <tr>\n",
       "      <th>23</th>\n",
       "      <td>Albania</td>\n",
       "      <td>2007</td>\n",
       "      <td>3600523</td>\n",
       "      <td>Europe</td>\n",
       "      <td>76.423</td>\n",
       "      <td>5937.029526</td>\n",
       "      <td>Very High</td>\n",
       "    </tr>\n",
       "    <tr>\n",
       "      <th>35</th>\n",
       "      <td>Algeria</td>\n",
       "      <td>2007</td>\n",
       "      <td>33333216</td>\n",
       "      <td>Africa</td>\n",
       "      <td>72.301</td>\n",
       "      <td>6223.367465</td>\n",
       "      <td>Very High</td>\n",
       "    </tr>\n",
       "    <tr>\n",
       "      <th>47</th>\n",
       "      <td>Angola</td>\n",
       "      <td>2007</td>\n",
       "      <td>12420476</td>\n",
       "      <td>Africa</td>\n",
       "      <td>42.731</td>\n",
       "      <td>4797.231267</td>\n",
       "      <td>Medium</td>\n",
       "    </tr>\n",
       "    <tr>\n",
       "      <th>59</th>\n",
       "      <td>Argentina</td>\n",
       "      <td>2007</td>\n",
       "      <td>40301927</td>\n",
       "      <td>Americas</td>\n",
       "      <td>75.320</td>\n",
       "      <td>12779.379640</td>\n",
       "      <td>Very High</td>\n",
       "    </tr>\n",
       "  </tbody>\n",
       "</table>\n",
       "</div>"
      ],
      "text/plain": [
       "        country  year  population continent  life_exp       gdp_cap  \\\n",
       "11  Afghanistan  2007    31889923      Asia    43.828    974.580338   \n",
       "23      Albania  2007     3600523    Europe    76.423   5937.029526   \n",
       "35      Algeria  2007    33333216    Africa    72.301   6223.367465   \n",
       "47       Angola  2007    12420476    Africa    42.731   4797.231267   \n",
       "59    Argentina  2007    40301927  Americas    75.320  12779.379640   \n",
       "\n",
       "   Life_Exp_Range  \n",
       "11         Medium  \n",
       "23      Very High  \n",
       "35      Very High  \n",
       "47         Medium  \n",
       "59      Very High  "
      ]
     },
     "execution_count": 20,
     "metadata": {},
     "output_type": "execute_result"
    }
   ],
   "source": [
    "dataset_2007.head()"
   ]
  },
  {
   "cell_type": "code",
   "execution_count": 21,
   "id": "0613b4e9",
   "metadata": {},
   "outputs": [
    {
     "data": {
      "text/html": [
       "<div>\n",
       "<style scoped>\n",
       "    .dataframe tbody tr th:only-of-type {\n",
       "        vertical-align: middle;\n",
       "    }\n",
       "\n",
       "    .dataframe tbody tr th {\n",
       "        vertical-align: top;\n",
       "    }\n",
       "\n",
       "    .dataframe thead th {\n",
       "        text-align: right;\n",
       "    }\n",
       "</style>\n",
       "<table border=\"1\" class=\"dataframe\">\n",
       "  <thead>\n",
       "    <tr style=\"text-align: right;\">\n",
       "      <th></th>\n",
       "      <th>country</th>\n",
       "      <th>year</th>\n",
       "      <th>population</th>\n",
       "      <th>continent</th>\n",
       "      <th>life_exp</th>\n",
       "      <th>gdp_cap</th>\n",
       "      <th>Life_Exp_Range</th>\n",
       "    </tr>\n",
       "  </thead>\n",
       "  <tbody>\n",
       "    <tr>\n",
       "      <th>11</th>\n",
       "      <td>Afghanistan</td>\n",
       "      <td>2007</td>\n",
       "      <td>31889923</td>\n",
       "      <td>Asia</td>\n",
       "      <td>43.828</td>\n",
       "      <td>974.580338</td>\n",
       "      <td>Medium</td>\n",
       "    </tr>\n",
       "    <tr>\n",
       "      <th>1487</th>\n",
       "      <td>Switzerland</td>\n",
       "      <td>2007</td>\n",
       "      <td>7554661</td>\n",
       "      <td>Europe</td>\n",
       "      <td>81.701</td>\n",
       "      <td>37506.419070</td>\n",
       "      <td>Very High</td>\n",
       "    </tr>\n",
       "  </tbody>\n",
       "</table>\n",
       "</div>"
      ],
      "text/plain": [
       "          country  year  population continent  life_exp       gdp_cap  \\\n",
       "11    Afghanistan  2007    31889923      Asia    43.828    974.580338   \n",
       "1487  Switzerland  2007     7554661    Europe    81.701  37506.419070   \n",
       "\n",
       "     Life_Exp_Range  \n",
       "11           Medium  \n",
       "1487      Very High  "
      ]
     },
     "execution_count": 21,
     "metadata": {},
     "output_type": "execute_result"
    }
   ],
   "source": [
    "country_Afgha_switz = dataset_2007[dataset_2007['country'].isin(['Afghanistan', 'Switzerland'])]\n",
    "country_Afgha_switz\n"
   ]
  },
  {
   "cell_type": "code",
   "execution_count": 22,
   "id": "9386fab8",
   "metadata": {},
   "outputs": [
    {
     "data": {
      "image/png": "[encoded data removed]",
      "text/plain": [
       "<Figure size 864x432 with 2 Axes>"
      ]
     },
     "metadata": {
      "needs_background": "light"
     },
     "output_type": "display_data"
    }
   ],
   "source": [
    "fig, axes = plt.subplots(1, 2, figsize=(12, 6))\n",
    "\n",
    "# Bar chart for life expectancy\n",
    "sns.barplot(x='country', y='life_exp', data=country_Afgha_switz, ax=axes[0])\n",
    "axes[0].set_title('Life Expectancy in 2007')\n",
    "axes[0].set_ylabel('Life Expectancy')\n",
    "axes[0].set_xlabel('Country')\n",
    "\n",
    "# Bar chart for GDP per capita\n",
    "sns.barplot(x='country', y='gdp_cap', data=country_Afgha_switz, ax=axes[1])\n",
    "axes[1].set_title('GDP per Capita in 2007')\n",
    "axes[1].set_ylabel('GDP per Capita')\n",
    "axes[1].set_xlabel('Country')\n",
    "\n",
    "# Display the plot\n",
    "plt.tight_layout()\n",
    "plt.show()"
   ]
  },
  {
   "cell_type": "markdown",
   "id": "5154020c",
   "metadata": {},
   "source": [
    "1. The bar chart comparison reveals that Afghanistan, a country affected by prolonged conflicts, has a life expectancy nearly half that of Switzerland, highlighting the severe impact of instability on public health. \n",
    "\n",
    "2. Additionally, Afghanistan's GDP per capita is drastically lower, almost negligible when compared to Switzerland, underscoring the economic disparity between a conflict-ridden nation and a peaceful, economically prosperous one.\n",
    "\n",
    "3. These differences illustrate how peace and stability are critical for both the economic well-being and overall health of a population."
   ]
  },
  {
   "cell_type": "markdown",
   "id": "ac7ef208",
   "metadata": {},
   "source": [
    "##### 2. Then, create two separate line graphs to show the trends of these two metrics over all available years in the dataset for both countries."
   ]
  },
  {
   "cell_type": "code",
   "execution_count": 23,
   "id": "572534c1",
   "metadata": {},
   "outputs": [
    {
     "data": {
      "text/html": [
       "<div>\n",
       "<style scoped>\n",
       "    .dataframe tbody tr th:only-of-type {\n",
       "        vertical-align: middle;\n",
       "    }\n",
       "\n",
       "    .dataframe tbody tr th {\n",
       "        vertical-align: top;\n",
       "    }\n",
       "\n",
       "    .dataframe thead th {\n",
       "        text-align: right;\n",
       "    }\n",
       "</style>\n",
       "<table border=\"1\" class=\"dataframe\">\n",
       "  <thead>\n",
       "    <tr style=\"text-align: right;\">\n",
       "      <th></th>\n",
       "      <th>country</th>\n",
       "      <th>year</th>\n",
       "      <th>population</th>\n",
       "      <th>continent</th>\n",
       "      <th>life_exp</th>\n",
       "      <th>gdp_cap</th>\n",
       "      <th>Life_Exp_Range</th>\n",
       "      <th>Decade</th>\n",
       "    </tr>\n",
       "  </thead>\n",
       "  <tbody>\n",
       "    <tr>\n",
       "      <th>0</th>\n",
       "      <td>Afghanistan</td>\n",
       "      <td>1952-01-01</td>\n",
       "      <td>8425333</td>\n",
       "      <td>Asia</td>\n",
       "      <td>28.801</td>\n",
       "      <td>779.445314</td>\n",
       "      <td>Low</td>\n",
       "      <td>1950</td>\n",
       "    </tr>\n",
       "    <tr>\n",
       "      <th>1</th>\n",
       "      <td>Afghanistan</td>\n",
       "      <td>1957-01-01</td>\n",
       "      <td>9240934</td>\n",
       "      <td>Asia</td>\n",
       "      <td>30.332</td>\n",
       "      <td>820.853030</td>\n",
       "      <td>Low</td>\n",
       "      <td>1950</td>\n",
       "    </tr>\n",
       "    <tr>\n",
       "      <th>2</th>\n",
       "      <td>Afghanistan</td>\n",
       "      <td>1962-01-01</td>\n",
       "      <td>10267083</td>\n",
       "      <td>Asia</td>\n",
       "      <td>31.997</td>\n",
       "      <td>853.100710</td>\n",
       "      <td>Low</td>\n",
       "      <td>1960</td>\n",
       "    </tr>\n",
       "    <tr>\n",
       "      <th>3</th>\n",
       "      <td>Afghanistan</td>\n",
       "      <td>1967-01-01</td>\n",
       "      <td>11537966</td>\n",
       "      <td>Asia</td>\n",
       "      <td>34.020</td>\n",
       "      <td>836.197138</td>\n",
       "      <td>Low</td>\n",
       "      <td>1960</td>\n",
       "    </tr>\n",
       "    <tr>\n",
       "      <th>4</th>\n",
       "      <td>Afghanistan</td>\n",
       "      <td>1972-01-01</td>\n",
       "      <td>13079460</td>\n",
       "      <td>Asia</td>\n",
       "      <td>36.088</td>\n",
       "      <td>739.981106</td>\n",
       "      <td>Low</td>\n",
       "      <td>1970</td>\n",
       "    </tr>\n",
       "  </tbody>\n",
       "</table>\n",
       "</div>"
      ],
      "text/plain": [
       "       country       year  population continent  life_exp     gdp_cap  \\\n",
       "0  Afghanistan 1952-01-01     8425333      Asia    28.801  779.445314   \n",
       "1  Afghanistan 1957-01-01     9240934      Asia    30.332  820.853030   \n",
       "2  Afghanistan 1962-01-01    10267083      Asia    31.997  853.100710   \n",
       "3  Afghanistan 1967-01-01    11537966      Asia    34.020  836.197138   \n",
       "4  Afghanistan 1972-01-01    13079460      Asia    36.088  739.981106   \n",
       "\n",
       "  Life_Exp_Range  Decade  \n",
       "0            Low    1950  \n",
       "1            Low    1950  \n",
       "2            Low    1960  \n",
       "3            Low    1960  \n",
       "4            Low    1970  "
      ]
     },
     "execution_count": 23,
     "metadata": {},
     "output_type": "execute_result"
    }
   ],
   "source": [
    "df_Afgha_switz = dataset[dataset['country'].isin(['Afghanistan', 'Switzerland'])]\n",
    "df_Afgha_switz.head()"
   ]
  },
  {
   "cell_type": "code",
   "execution_count": 24,
   "id": "6ad155ce",
   "metadata": {},
   "outputs": [
    {
     "data": {
      "image/png": "[encoded data removed]",
      "text/plain": [
       "<Figure size 720x360 with 1 Axes>"
      ]
     },
     "metadata": {
      "needs_background": "light"
     },
     "output_type": "display_data"
    },
    {
     "data": {
      "image/png": "[encoded data removed]",
      "text/plain": [
       "<Figure size 720x360 with 1 Axes>"
      ]
     },
     "metadata": {
      "needs_background": "light"
     },
     "output_type": "display_data"
    }
   ],
   "source": [
    "# Line graph for Life Expectancy\n",
    "plt.figure(figsize=(10, 5))\n",
    "sns.lineplot(x='year', y='life_exp', hue='country', data=df_Afgha_switz, marker='o')\n",
    "plt.title('Life Expectancy Trends (1952 - 2007)')\n",
    "plt.xlabel('Year')\n",
    "plt.ylabel('Life Expectancy')\n",
    "plt.show()\n",
    "\n",
    "# Line graph for GDP per Capita\n",
    "plt.figure(figsize=(10, 5))\n",
    "sns.lineplot(x='year', y='gdp_cap', hue='country', data=df_Afgha_switz, marker='o')\n",
    "plt.title('GDP per Capita Trends (1952 - 2007)')\n",
    "plt.xlabel('Year')\n",
    "plt.ylabel('GDP per Capita')\n",
    "plt.show()"
   ]
  },
  {
   "cell_type": "markdown",
   "id": "7e4525f3",
   "metadata": {},
   "source": [
    "1. The increasing life expectancy in both Afghanistan and Switzerland can be attributed to global advancements in healthcare, public health initiatives, and improved access to medical services. \n",
    "2. However, Switzerland's significant rise in GDP per capita reflects its stable governance, diversified economy, and strong global trade connections. \n",
    "3. In contrast, Afghanistan's stagnant GDP per capita is a result of prolonged conflicts, political instability, and limited infrastructure, which have hindered economic growth and development.\n",
    "4. These factors underscore the crucial role of peace, stability, and effective governance in driving both economic and social progress."
   ]
  },
  {
   "cell_type": "code",
   "execution_count": null,
   "id": "6199436c",
   "metadata": {},
   "outputs": [],
   "source": []
  },
  {
   "cell_type": "code",
   "execution_count": null,
   "id": "c38aa5c3",
   "metadata": {},
   "outputs": [],
   "source": []
  }
 ],
 "metadata": {
  "kernelspec": {
   "display_name": "Python 3",
   "language": "python",
   "name": "python3"
  },
  "language_info": {
   "codemirror_mode": {
    "name": "ipython",
    "version": 3
   },
   "file_extension": ".py",
   "mimetype": "text/x-python",
   "name": "python",
   "nbconvert_exporter": "python",
   "pygments_lexer": "ipython3",
   "version": "3.9.1"
  }
 },
 "nbformat": 4,
 "nbformat_minor": 5
}
